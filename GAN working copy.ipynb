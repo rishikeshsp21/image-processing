{
 "cells": [
  {
   "cell_type": "code",
   "execution_count": null,
   "id": "6647a56b",
   "metadata": {},
   "outputs": [],
   "source": [
    "import tensorflow as tf\n",
    "from keras.datasets import mnist\n",
    "from keras.layers import *\n",
    "from keras.layers import LeakyReLU\n",
    "from keras.models import Sequential, Model\n",
    "from keras.optimizers import Adam\n",
    "import numpy as np\n",
    "from matplotlib import pyplot as plt\n",
    "import keras"
   ]
  },
  {
   "cell_type": "code",
   "execution_count": null,
   "id": "48c14d11",
   "metadata": {},
   "outputs": [],
   "source": [
    "(xtrain, ytrain), (xtest, ytest) = mnist.load_data()"
   ]
  },
  {
   "cell_type": "code",
   "execution_count": null,
   "id": "1bdfc79e",
   "metadata": {},
   "outputs": [],
   "source": [
    "xtrain = (xtrain - 127.5)/127.5\n",
    "print(xtrain)"
   ]
  },
  {
   "cell_type": "code",
   "execution_count": null,
   "id": "7f524d23",
   "metadata": {},
   "outputs": [],
   "source": [
    "totalepochs = 50\n",
    "batchsize = 256\n",
    "halfbatch = 128\n",
    "numofbatch = int(xtrain.shape[0]/batchsize)\n",
    "noisedim = 100\n",
    "adam = Adam(learning_rate = 2e-4, beta_1 = 0.5)"
   ]
  },
  {
   "cell_type": "code",
   "execution_count": null,
   "id": "3821bfdc",
   "metadata": {},
   "outputs": [],
   "source": [
    "generator = Sequential()\n",
    "generator.add(Dense(units = 7 * 7 * 128, input_shape = (noisedim,)))\n",
    "generator.add(Reshape((7,7,128)))\n",
    "generator.add(LeakyReLU(alpha=0.2))\n",
    "generator.add(BatchNormalization())\n",
    "generator.add(Conv2DTranspose(64, (3,3), strides=(2,2), padding= \"same\"))\n",
    "generator.add(LeakyReLU(0.2))\n",
    "generator.add(BatchNormalization())\n",
    "generator.add(Conv2DTranspose(1, (3,3), strides=(2,2), padding= \"same\", activation=\"tanh\"))\n",
    "generator.compile(loss = keras.losses.binary_crossentropy, optimizer = adam)\n",
    "generator.summary()"
   ]
  },
  {
   "cell_type": "code",
   "execution_count": null,
   "id": "8ed59785",
   "metadata": {},
   "outputs": [],
   "source": [
    "discriminator = Sequential()\n",
    "discriminator.add(Conv2D(64, kernel_size=(3,3), strides=(2,2), padding=\"same\", input_shape= (28,28,1)))\n",
    "discriminator.add(LeakyReLU(alpha=0.2))\n",
    "discriminator.add(Conv2D(128, kernel_size=(3,3), strides=(2,2), padding=\"same\"))\n",
    "discriminator.add(LeakyReLU(alpha=0.2))\n",
    "discriminator.add(Flatten())\n",
    "discriminator.add(Dense(100))\n",
    "discriminator.add(LeakyReLU(alpha=0.2))\n",
    "discriminator.add(Dense(1, activation=\"sigmoid\"))\n",
    "discriminator.compile(loss = keras.losses.binary_crossentropy, optimizer = adam)\n",
    "discriminator.summary()"
   ]
  },
  {
   "cell_type": "code",
   "execution_count": null,
   "id": "ea7b97fe",
   "metadata": {},
   "outputs": [],
   "source": [
    "discriminator.trainable = False\n",
    "ganinput = Input(shape=noisedim, )\n",
    "genimg = generator(ganinput)\n",
    "ganoutput = discriminator(genimg)\n"
   ]
  },
  {
   "cell_type": "code",
   "execution_count": null,
   "id": "d8ef3cae",
   "metadata": {},
   "outputs": [],
   "source": [
    "model = Model(ganinput, ganoutput)\n",
    "model.compile(loss=keras.losses.binary_crossentropy, optimizer= adam)\n",
    "model.summary()"
   ]
  },
  {
   "cell_type": "code",
   "execution_count": null,
   "id": "cd015054",
   "metadata": {},
   "outputs": [],
   "source": [
    "xtrain = xtrain.reshape(-1, 28, 28, 1)\n",
    "xtrain.shape"
   ]
  },
  {
   "cell_type": "code",
   "execution_count": null,
   "id": "010f319f",
   "metadata": {},
   "outputs": [],
   "source": [
    "dlosses = []\n",
    "glosses = []\n",
    "samples = 25\n",
    "count = 0\n",
    "for epoch in range(totalepochs):\n",
    "    epochdlosses = 0.0\n",
    "    epochglosses = 0.0\n",
    "    for step in range(numofbatch):\n",
    "        discriminator.trainable = True\n",
    "        idx = np.random.randint(0,60000, halfbatch)\n",
    "        realimage = xtrain[idx]\n",
    "        noise = np.random.normal(0,1, size=(halfbatch,noisedim))\n",
    "        fakeimage = generator.predict(noise)\n",
    "        realy = np.ones((halfbatch, 1))*0.9\n",
    "        fakey = np.zeros((halfbatch, 1))\n",
    "        dlossreal = discriminator.train_on_batch(realimage, realy)\n",
    "        dlossfake = discriminator.train_on_batch(fakeimage, fakey)\n",
    "        dloss = 0.5 * dlossreal + 0.5 * dlossfake\n",
    "        epochdlosses += dloss\n",
    "        discriminator.trainable = False\n",
    "        noise = np.random.normal(0,1,size=(batchsize, noisedim))\n",
    "        groundtruthy = np.ones((batchsize, 1))\n",
    "        gloss = model.train_on_batch(noise, groundtruthy)\n",
    "        epochglosses += gloss\n",
    "        print(f\"epoch{epoch + 1}, discriminator losses{epochdlosses/numofbatch}, generator losses{epochglosses/numofbatch}\")\n",
    "        dlosses.append(epochdlosses/numofbatch)\n",
    "        glosses.append(epochglosses/numofbatch)\n",
    "        if(epoch + 1) % 10 == 0:\n",
    "            generator.save(\"generator.h5\")\n",
    "            noise = np.random.normal(0,1,size=(samples, noisedim))\n",
    "            generatedimage = generator.predict(noise)\n",
    "            plt.figure(figsize=(10, 10))\n",
    "            for i in range(samples):\n",
    "                plt.subplot(5,5,i+1)\n",
    "                figname = \"gan output images\\\\\" + str(epoch + 1) + \" \" + str(count) + \".jpg\"\n",
    "                plt.imshow(generatedimage[i].reshape(28,28), cmap= \"binary\")\n",
    "                count = count + 1\n",
    "                plt.axis(\"off\")\n",
    "                plt.savefig(figname)\n",
    "            plt.show()"
   ]
  }
 ],
 "metadata": {
  "kernelspec": {
   "display_name": "Python 3 (ipykernel)",
   "language": "python",
   "name": "python3"
  },
  "language_info": {
   "codemirror_mode": {
    "name": "ipython",
    "version": 3
   },
   "file_extension": ".py",
   "mimetype": "text/x-python",
   "name": "python",
   "nbconvert_exporter": "python",
   "pygments_lexer": "ipython3",
   "version": "3.9.4"
  }
 },
 "nbformat": 4,
 "nbformat_minor": 5
}
